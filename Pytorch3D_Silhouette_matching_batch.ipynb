{
 "cells": [
  {
   "cell_type": "code",
   "execution_count": 1,
   "metadata": {},
   "outputs": [],
   "source": [
    "import os\n",
    "import torch\n",
    "import numpy as np\n",
    "import tqdm\n",
    "import imageio\n",
    "import torch.nn as nn\n",
    "import torch.nn.functional as F\n",
    "import matplotlib.pyplot as plt\n",
    "from skimage import img_as_ubyte\n",
    "from utils import image_grid\n",
    "# io utils\n",
    "from pytorch3d.io import load_obj\n",
    "\n",
    "# datastructures\n",
    "from pytorch3d.structures import Meshes, Textures\n",
    "\n",
    "# 3D transformations functions\n",
    "from pytorch3d.transforms import Rotate, Translate\n",
    "\n",
    "# rendering components\n",
    "from pytorch3d.renderer import (\n",
    "    OpenGLPerspectiveCameras, look_at_view_transform, look_at_rotation, \n",
    "    RasterizationSettings, MeshRenderer, MeshRasterizer, BlendParams,\n",
    "    SilhouetteShader, PhongShader, PointLights\n",
    ")"
   ]
  },
  {
   "cell_type": "code",
   "execution_count": 2,
   "metadata": {},
   "outputs": [],
   "source": [
    "# Set the cuda device \n",
    "device = torch.device(\"cuda:0\")\n",
    "torch.cuda.set_device(device)\n",
    "\n",
    "# Load the obj and ignore the textures and materials.\n",
    "verts, faces_idx, _ = load_obj(\"/home/hyosung/ImageDataset/PoseDataset/lm_full/models_obj/obj_000009.obj\")\n",
    "# verts, faces_idx, _ = load_obj(\"/home/hyosung/ImageDataset/PoseDataset/lm_full/models_obj/teapot.obj\")\n",
    "faces = faces_idx.verts_idx\n",
    "\n",
    "# vertices align to center\n",
    "verts[:,0] -= verts[:,0].mean()\n",
    "verts[:,1] -= verts[:,1].mean()\n",
    "verts[:,2] -= verts[:,2].mean()\n",
    "# Initialize each vertex to be white in color.\n",
    "verts_rgb = torch.ones_like(verts)[None]  # (1, V, 3)\n",
    "textures = Textures(verts_rgb=verts_rgb.to(device))\n",
    "\n",
    "# Create a Meshes object for the teapot. Here we have only one mesh in the batch.\n",
    "model_mesh = Meshes(\n",
    "    verts=[verts.to(device)],   \n",
    "    faces=[faces.to(device)], \n",
    "    textures=textures\n",
    ")"
   ]
  },
  {
   "cell_type": "code",
   "execution_count": 3,
   "metadata": {},
   "outputs": [],
   "source": [
    "# Initialize an OpenGL perspective camera.\n",
    "cameras = OpenGLPerspectiveCameras(device=device)\n",
    "\n",
    "# To blend the 100 faces we set a few parameters which control the opacity and the sharpness of \n",
    "# edges. Refer to blending.py for more details. \n",
    "blend_params = BlendParams(sigma=1e-4, gamma=1e-4)\n",
    "\n",
    "# Define the settings for rasterization and shading. Here we set the output image to be of size\n",
    "# 256x256. To form the blended image we use 100 faces for each pixel. Refer to rasterize_meshes.py\n",
    "# for an explanation of this parameter. \n",
    "raster_settings = RasterizationSettings(\n",
    "    image_size=256, \n",
    "    blur_radius=np.log(1. / 1e-4 - 1.) * blend_params.sigma, \n",
    "    faces_per_pixel=100, \n",
    "    bin_size=0\n",
    ")\n",
    "\n",
    "# Create a silhouette mesh renderer by composing a rasterizer and a shader. \n",
    "silhouette_renderer = MeshRenderer(\n",
    "    rasterizer=MeshRasterizer(\n",
    "        cameras=cameras, \n",
    "        raster_settings=raster_settings\n",
    "    ),\n",
    "    shader=SilhouetteShader(blend_params=blend_params)\n",
    ")"
   ]
  },
  {
   "cell_type": "code",
   "execution_count": 114,
   "metadata": {
    "scrolled": true
   },
   "outputs": [
    {
     "name": "stdout",
     "output_type": "stream",
     "text": [
      "azimuth: tensor([-45.,  45.])\n"
     ]
    },
    {
     "data": {
      "image/png": "[encoded data removed]",
      "text/plain": [
       "<Figure size 1080x648 with 2 Axes>"
      ]
     },
     "metadata": {
      "needs_background": "light"
     },
     "output_type": "display_data"
    }
   ],
   "source": [
    "# Select the viewpoint using spherical angles  \n",
    "batch_size = 2\n",
    "distance = torch.tensor(150)   # distance from camera to the object\n",
    "# elevation = torch.linspace(89.0, 89.0, batch_size)   # angle of elevation in degrees\n",
    "elevation = torch.tensor([89.0, 89.0])\n",
    "# azimuth = torch.linspace(0.0, 89.9, batch_size)  # angle of azimuth rotation in degrees\n",
    "azimuth = torch.tensor([-45.0, 45.0])\n",
    "ups = [(0, 1, 0),]*batch_size\n",
    "# for i in range(batch_size):\n",
    "#     if elevation[i] > 90.0:\n",
    "#         ups[i] = (0, 0, 1)\n",
    "print(f'azimuth: {azimuth}')\n",
    "# Get the position of the camera based on the spherical angles\n",
    "R, T = look_at_view_transform(distance, elevation, azimuth, up=ups, device=device)\n",
    "\n",
    "# Render the teapot providing the values of R and T. \n",
    "image_ref = silhouette_renderer(meshes_world=model_mesh.extend(batch_size), R=R, T=T)\n",
    "# image_ref = phong_renderer(meshes_world=model_mesh.extend(batch_size), R=R, T=T)\n",
    "\n",
    "image_grid(image_ref.cpu().numpy(), rows=1, cols=2, rgb=False)"
   ]
  },
  {
   "cell_type": "code",
   "execution_count": 115,
   "metadata": {},
   "outputs": [],
   "source": [
    "class Model(nn.Module):\n",
    "    def __init__(self, meshes, renderer, image_ref):\n",
    "        super().__init__()\n",
    "        self.batch_size = len(image_ref)\n",
    "        self.meshes = meshes.extend(batch_size)\n",
    "        self.device = meshes.device\n",
    "        self.renderer = renderer\n",
    "        \n",
    "        # Get the silhouette of the reference RGB image by finding all the non zero values. \n",
    "#         self.image_ref = torch.from_numpy((image_ref[..., :3].max(-1) != 0).astype(np.float32))\n",
    "        self.image_ref = image_ref[..., 3]\n",
    "#         self.register_buffer('image_ref', image_ref)\n",
    "        \n",
    "        # Select the viewpoint using spherical angles  \n",
    "        self.distance = nn.Parameter(torch.tensor(150.))   # distance from camera to the object\n",
    "        self.elevation = nn.Parameter(torch.tensor([89.0]*self.batch_size))   # angle of elevation in degrees\n",
    "#         self.elevation = torch.tensor([89.0]*self.batch_size)   # angle of elevation in degrees\n",
    "        self.azimuth = nn.Parameter(torch.tensor([0.0]*self.batch_size))      # angle of azimuth rotation in degrees       \n",
    "\n",
    "    def forward(self):        \n",
    "        # Get the position of the camera based on the spherical angles\n",
    "        ups = [(0, 1, 0),]*self.batch_size\n",
    "        for i in range(self.batch_size):\n",
    "            if elevation[i] > 90.0:\n",
    "                ups[i] = (0, 0, 1)\n",
    "        R, T = look_at_view_transform(self.distance, self.elevation, self.azimuth, up=ups, device=self.device)\n",
    "        image = self.renderer(meshes_world=self.meshes.clone(), R=R, T=T)\n",
    "#         image = (image>0).float()\n",
    "        # Calculate the silhouette loss\n",
    "        loss = torch.sum((image[..., 3] - self.image_ref) ** 2) # input: sihouette, target: phong\n",
    "        return loss, image, R, T"
   ]
  },
  {
   "cell_type": "code",
   "execution_count": 116,
   "metadata": {},
   "outputs": [],
   "source": [
    "# We will save images periodically and compose them into a GIF.\n",
    "filename_output = \"./obj_optimization_demo.gif\"\n",
    "writer = imageio.get_writer(filename_output, mode='I', duration=0.3)\n",
    "\n",
    "# silhouete = silhouette_renderer(meshes_world=model_mesh, R=R, T=T)\n",
    "\n",
    "# Initialize a model using the renderer, mesh and reference image\n",
    "model = Model(meshes=model_mesh, renderer=silhouette_renderer, image_ref=image_ref).to(device)\n",
    "\n",
    "\n",
    "# Create an optimizer. Here we are using Adam and we pass in the parameters of the model\n",
    "optimizer = torch.optim.Adam(model.parameters(), lr=0.5)"
   ]
  },
  {
   "cell_type": "code",
   "execution_count": 117,
   "metadata": {},
   "outputs": [
    {
     "data": {
      "application/vnd.jupyter.widget-view+json": {
       "model_id": "456010e153054786b21170c7b7797123",
       "version_major": 2,
       "version_minor": 0
      },
      "text/plain": [
       "HBox(children=(FloatProgress(value=0.0), HTML(value='')))"
      ]
     },
     "metadata": {},
     "output_type": "display_data"
    },
    {
     "name": "stdout",
     "output_type": "stream",
     "text": [
      "R is not a valid rotation matrix\n",
      "R is not a valid rotation matrix\n",
      "\n",
      "elabsed time: 8.488210678100586\n"
     ]
    }
   ],
   "source": [
    "import time\n",
    "tic = time.time()\n",
    "loop = tqdm.notebook.tqdm(range(100))\n",
    "for i in loop:\n",
    "    optimizer.zero_grad()\n",
    "    loss, _, R, T = model()\n",
    "    loss.backward()\n",
    "    optimizer.step()\n",
    "    \n",
    "    loop.set_description('Optimizing (loss %.4f)' % loss.data)\n",
    "    \n",
    "    if loss.item() < 200:\n",
    "        break\n",
    "    \n",
    "    # Save outputs to create a GIF. \n",
    "    if i % 10 == 0:        \n",
    "        \n",
    "        image = silhouette_renderer(meshes_world=model.meshes.clone(), R=R, T=T)\n",
    "        image = image.detach().squeeze().cpu().numpy()\n",
    "        image = img_as_ubyte(image)\n",
    "        image_stack = np.hstack((image[0,...,3], image[1,...,3]))\n",
    "        writer.append_data(image_stack)\n",
    "        \n",
    "#         plt.figure()\n",
    "#         plt.subplot(1,2,1)\n",
    "#         plt.imshow(image[0, ..., 3])\n",
    "#         plt.subplot(1,2,2)\n",
    "#         plt.imshow(image[1, ..., 3])\n",
    "#         plt.title(\"iter: %d, loss: %0.2f\" % (i, loss.data))\n",
    "#         plt.grid(\"off\")\n",
    "#         plt.axis(\"off\")\n",
    "    \n",
    "writer.close()\n",
    "elapsed_time = time.time() - tic\n",
    "print(f'elabsed time: {elapsed_time}')"
   ]
  },
  {
   "cell_type": "code",
   "execution_count": 49,
   "metadata": {},
   "outputs": [
    {
     "name": "stdout",
     "output_type": "stream",
     "text": [
      "[[[ 0.8839453   0.16474484 -0.43760702]\n",
      "  [-0.          0.9358769   0.35232726]\n",
      "  [ 0.4675904  -0.31143802  0.82726395]]\n",
      "\n",
      " [[ 0.95851755  0.01281379 -0.28474554]\n",
      "  [-0.          0.998989    0.04495534]\n",
      "  [ 0.2850337  -0.04309048  0.9575485 ]]]\n",
      "[[-0.0000000e+00 -0.0000000e+00  1.5230658e+02]\n",
      " [ 3.8146973e-06 -4.7683716e-07  1.5230658e+02]]\n"
     ]
    }
   ],
   "source": [
    "print(R.detach().cpu().numpy())\n",
    "print(T.detach().cpu().numpy())"
   ]
  }
 ],
 "metadata": {
  "kernelspec": {
   "display_name": "Python 3",
   "language": "python",
   "name": "python3"
  },
  "language_info": {
   "codemirror_mode": {
    "name": "ipython",
    "version": 3
   },
   "file_extension": ".py",
   "mimetype": "text/x-python",
   "name": "python",
   "nbconvert_exporter": "python",
   "pygments_lexer": "ipython3",
   "version": "3.7.6"
  }
 },
 "nbformat": 4,
 "nbformat_minor": 4
}
