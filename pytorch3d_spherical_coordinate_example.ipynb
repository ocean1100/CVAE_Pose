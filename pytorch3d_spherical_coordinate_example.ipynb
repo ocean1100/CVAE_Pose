{
 "cells": [
  {
   "cell_type": "code",
   "execution_count": 1,
   "metadata": {},
   "outputs": [],
   "source": [
    "import os\n",
    "import torch\n",
    "import numpy as np\n",
    "import tqdm\n",
    "import imageio\n",
    "import torch.nn as nn\n",
    "import torch.nn.functional as F\n",
    "import matplotlib.pyplot as plt\n",
    "from skimage import img_as_ubyte\n",
    "from utils import image_grid\n",
    "# io utils\n",
    "from pytorch3d.io import load_obj\n",
    "\n",
    "# datastructures\n",
    "from pytorch3d.structures import Meshes, Textures\n",
    "\n",
    "# 3D transformations functions\n",
    "from pytorch3d.transforms import Rotate, Translate\n",
    "\n",
    "# rendering components\n",
    "from pytorch3d.renderer import (\n",
    "    OpenGLPerspectiveCameras, look_at_view_transform, look_at_rotation, \n",
    "    RasterizationSettings, MeshRenderer, MeshRasterizer, BlendParams,\n",
    "    SilhouetteShader, PhongShader, PointLights, TexturedPhongShader\n",
    ")"
   ]
  },
  {
   "cell_type": "code",
   "execution_count": 2,
   "metadata": {},
   "outputs": [],
   "source": [
    "# Set the cuda device \n",
    "device = torch.device(\"cuda:0\")\n",
    "torch.cuda.set_device(device)\n",
    "\n",
    "# Load the obj and ignore the textures and materials.\n",
    "verts, faces_idx, _ = load_obj(\"/home/hyosung/ImageDataset/PoseDataset/lm_full/models_obj/obj_000009.obj\")\n",
    "# verts, faces_idx, _ = load_obj(\"/home/hyosung/ImageDataset/PoseDataset/lm_full/models_obj/teapot.obj\")\n",
    "faces = faces_idx.verts_idx\n",
    "\n",
    "# vertices align to center\n",
    "verts[:,0] -= verts[:,0].mean()\n",
    "verts[:,1] -= verts[:,1].mean()\n",
    "verts[:,2] -= verts[:,2].mean()\n",
    "# Initialize each vertex to be white in color.\n",
    "verts_rgb = torch.ones_like(verts)[None]  # (1, V, 3)\n",
    "textures = Textures(verts_rgb=verts_rgb.to(device))\n",
    "\n",
    "# Create a Meshes object for the teapot. Here we have only one mesh in the batch.\n",
    "model_mesh = Meshes(\n",
    "    verts=[verts.to(device)],   \n",
    "    faces=[faces.to(device)], \n",
    "    textures=textures\n",
    ")"
   ]
  },
  {
   "cell_type": "code",
   "execution_count": 3,
   "metadata": {},
   "outputs": [],
   "source": [
    "# Initialize an OpenGL perspective camera.\n",
    "cameras = OpenGLPerspectiveCameras(device=device)\n",
    "\n",
    "# To blend the 100 faces we set a few parameters which control the opacity and the sharpness of \n",
    "# edges. Refer to blending.py for more details. \n",
    "blend_params = BlendParams(sigma=1e-4, gamma=1e-4)\n",
    "\n",
    "# Define the settings for rasterization and shading. Here we set the output image to be of size\n",
    "# 256x256. To form the blended image we use 100 faces for each pixel. Refer to rasterize_meshes.py\n",
    "# for an explanation of this parameter. \n",
    "raster_settings = RasterizationSettings(\n",
    "    image_size=256, \n",
    "    blur_radius=np.log(1. / 1e-4 - 1.) * blend_params.sigma, \n",
    "    faces_per_pixel=100, \n",
    "    bin_size=0\n",
    ")\n",
    "\n",
    "# Create a silhouette mesh renderer by composing a rasterizer and a shader. \n",
    "silhouette_renderer = MeshRenderer(\n",
    "    rasterizer=MeshRasterizer(\n",
    "        cameras=cameras, \n",
    "        raster_settings=raster_settings\n",
    "    ),\n",
    "    shader=SilhouetteShader(blend_params=blend_params)\n",
    ")\n",
    "\n",
    "\n",
    "# We will also create a phong renderer. This is simpler and only needs to render one face per pixel.\n",
    "raster_settings = RasterizationSettings(\n",
    "    image_size=256, \n",
    "    blur_radius=0.0, \n",
    "    faces_per_pixel=1, \n",
    "    bin_size=0\n",
    ")\n",
    "# We can add a point light in front of the object. \n",
    "lights = PointLights(device=device, location=((0.0, 300.0, 0.0),))\n",
    "phong_renderer = MeshRenderer(\n",
    "    rasterizer=MeshRasterizer(\n",
    "        cameras=cameras, \n",
    "        raster_settings=raster_settings\n",
    "    ),\n",
    "    shader=PhongShader(device=device, lights=lights)\n",
    ")"
   ]
  },
  {
   "cell_type": "code",
   "execution_count": 4,
   "metadata": {},
   "outputs": [
    {
     "data": {
      "text/plain": [
       "<matplotlib.image.AxesImage at 0x7f0af82bc750>"
      ]
     },
     "execution_count": 4,
     "metadata": {},
     "output_type": "execute_result"
    },
    {
     "data": {
      "image/png": "[encoded data removed]",
      "text/plain": [
       "<Figure size 720x720 with 2 Axes>"
      ]
     },
     "metadata": {
      "needs_background": "light"
     },
     "output_type": "display_data"
    }
   ],
   "source": [
    "# Select the viewpoint using spherical angles  \n",
    "distance = 400.0   # distance from camera to the object\n",
    "elevation = 89.9   # angle of elevation in degrees\n",
    "azimuth = 30.0  # angle of azimuth rotation in degrees\n",
    "\n",
    "# Get the position of the camera based on the spherical angles\n",
    "R, T = look_at_view_transform(distance, elevation, azimuth, device=device)\n",
    "\n",
    "# Render the teapot providing the values of R and T. \n",
    "silhouete = silhouette_renderer(meshes_world=model_mesh, R=R, T=T)\n",
    "image_ref = phong_renderer(meshes_world=model_mesh, R=R, T=T)\n",
    "\n",
    "silhouete = silhouete.cpu().numpy()\n",
    "image_ref = image_ref.cpu().numpy()\n",
    "\n",
    "# image_ref = (image_ref>0.0).astype(np.float32)\n",
    "plt.figure(figsize=(10, 10))\n",
    "plt.subplot(1, 2, 1)\n",
    "plt.imshow(silhouete.squeeze()[..., 3])  # only plot the alpha channel of the RGBA image\n",
    "# plt.grid(\"off\")\n",
    "plt.subplot(1, 2, 2)\n",
    "plt.imshow(image_ref.squeeze())\n",
    "# plt.grid(\"off\")"
   ]
  },
  {
   "cell_type": "code",
   "execution_count": 5,
   "metadata": {},
   "outputs": [
    {
     "name": "stdout",
     "output_type": "stream",
     "text": [
      "tensor([[[ 8.6603e-01, -5.0000e-01, -8.7265e-04],\n",
      "         [-0.0000e+00,  1.7453e-03, -1.0000e+00],\n",
      "         [ 5.0000e-01,  8.6602e-01,  1.5115e-03]]], device='cuda:0')\n",
      "tensor([[ 6.2340e-09, -3.6856e-09,  4.0000e+02]], device='cuda:0')\n"
     ]
    }
   ],
   "source": [
    "print(R)\n",
    "print(T)"
   ]
  },
  {
   "cell_type": "code",
   "execution_count": 6,
   "metadata": {},
   "outputs": [
    {
     "name": "stdout",
     "output_type": "stream",
     "text": [
      "c: tensor([[-0.5000, -0.8660, -0.0015]], device='cuda:0')\n",
      "tensor([-0.0022], device='cuda:0')\n",
      "elev: tensor([-0.1240], device='cuda:0'), azim: tensor([-0.0722], device='cuda:0')\n"
     ]
    }
   ],
   "source": [
    "# Camera position from R matrix given that object is at the origin.\n",
    "c = -R[:,-1]\n",
    "print(f'c: {c}')\n",
    "print(c[:,1]/distance)\n",
    "elev = torch.asin((c[:,1]/distance)) * 180/np.pi\n",
    "azim = torch.asin((c[:,0]/(distance*torch.cos(elev)))) * 180/np.pi\n",
    "\n",
    "print(f'elev: {elev}, azim: {azim}')"
   ]
  },
  {
   "cell_type": "code",
   "execution_count": 11,
   "metadata": {},
   "outputs": [
    {
     "name": "stdout",
     "output_type": "stream",
     "text": [
      "camera_position: [[ 3.49065673e-01  3.99999391e+02 -6.04599481e-01]]\n",
      "R: [[ 8.66025404e-01 -4.99999238e-01 -8.72664183e-04]\n",
      " [-0.00000000e+00  1.74532837e-03 -9.99998477e-01]\n",
      " [ 5.00000000e-01  8.66024085e-01  1.51149870e-03]]\n"
     ]
    }
   ],
   "source": [
    "dist = 400.0   # distance from camera to the object\n",
    "elev = 89.9   # angle of elevation in degrees\n",
    "azim = 30.0  # angle of azimuth rotation in degrees\n",
    "\n",
    "up = ((0, 1, 0),)\n",
    "elev = elev * np.pi / 180.0\n",
    "azim = azim * np.pi / 180.0\n",
    "\n",
    "x = dist * np.cos(elev) * np.sin(azim)\n",
    "y = dist * np.sin(elev)\n",
    "z = -dist * np.cos(elev) * np.cos(azim)\n",
    "camera_position = np.array([[x,y,z]])\n",
    "print(f'camera_position: {camera_position}')\n",
    "\n",
    "z_axis = -camera_position\n",
    "z_axis /= np.linalg.norm(z_axis)\n",
    "x_axis = np.cross(up, z_axis)\n",
    "x_axis /= np.linalg.norm(x_axis)\n",
    "y_axis = np.cross(z_axis, x_axis)\n",
    "y_axis /= np.linalg.norm(y_axis)\n",
    "\n",
    "R = np.vstack((x_axis, y_axis, z_axis))\n",
    "R = R.transpose()\n",
    "print(f'R: {R}')\n"
   ]
  },
  {
   "cell_type": "code",
   "execution_count": 10,
   "metadata": {},
   "outputs": [
    {
     "name": "stdout",
     "output_type": "stream",
     "text": [
      "camera_position: [[-3.49065673e-01  3.99999391e+02  6.04599481e-01]]\n",
      "R: [[-8.66025404e-01  4.99999238e-01  8.72664183e-04]\n",
      " [ 0.00000000e+00  1.74532837e-03 -9.99998477e-01]\n",
      " [-5.00000000e-01 -8.66024085e-01 -1.51149870e-03]]\n"
     ]
    }
   ],
   "source": [
    "dist = 400.0   # distance from camera to the object\n",
    "elev = 90.1   # angle of elevation in degrees\n",
    "azim = 30.0  # angle of azimuth rotation in degrees\n",
    "\n",
    "up = ((0, 1, 0),)\n",
    "elev = elev * np.pi / 180.0\n",
    "azim = azim * np.pi / 180.0\n",
    "\n",
    "x = dist * np.cos(elev) * np.sin(azim)\n",
    "y = dist * np.sin(elev)\n",
    "z = -dist * np.cos(elev) * np.cos(azim)\n",
    "camera_position = np.array([[x,y,z]])\n",
    "print(f'camera_position: {camera_position}')\n",
    "\n",
    "z_axis = -camera_position\n",
    "z_axis /= np.linalg.norm(z_axis)\n",
    "x_axis = np.cross(up, z_axis)\n",
    "x_axis /= np.linalg.norm(x_axis)\n",
    "y_axis = np.cross(z_axis, x_axis)\n",
    "y_axis /= np.linalg.norm(y_axis)\n",
    "\n",
    "R = np.vstack((x_axis, y_axis, z_axis))\n",
    "R = R.transpose()\n",
    "print(f'R: {R}')\n"
   ]
  },
  {
   "cell_type": "code",
   "execution_count": 8,
   "metadata": {},
   "outputs": [
    {
     "name": "stdout",
     "output_type": "stream",
     "text": [
      "camera_position: [ 3.49065673e-01  3.99999391e+02 -6.04599481e-01]\n",
      "1.5690509975429023\n",
      "elev: 89.90000000000346, azim: 30.000000001140503\n"
     ]
    }
   ],
   "source": [
    "z_axis = R[:,-1]\n",
    "camera_position = -z_axis * dist\n",
    "print(f'camera_position: {camera_position}')\n",
    "print(elev)\n",
    "elev = np.arcsin(camera_position[1]/dist)\n",
    "azim = np.arcsin(camera_position[0]/(dist*np.cos(elev)))\n",
    "# azim = np.arccos(-camera_position[2]/(dist*np.cos(elev)))\n",
    "print(f'elev: {elev * 180/np.pi}, azim: {azim * 180/np.pi}')\n"
   ]
  },
  {
   "cell_type": "markdown",
   "metadata": {},
   "source": [
    "## Batched rendering"
   ]
  },
  {
   "cell_type": "code",
   "execution_count": 9,
   "metadata": {},
   "outputs": [
    {
     "data": {
      "image/png": "[encoded data removed]",
      "text/plain": [
       "<Figure size 1080x648 with 20 Axes>"
      ]
     },
     "metadata": {
      "needs_background": "light"
     },
     "output_type": "display_data"
    }
   ],
   "source": [
    "# Set batch size - this is the number of different viewpoints from which we want to render the mesh.\n",
    "batch_size = 20\n",
    "\n",
    "# Create a batch of meshes by repeating the cow mesh and associated textures. \n",
    "# Meshes has a useful `extend` method which allows us do this very easily. \n",
    "# This also extends the textures. \n",
    "meshes = model_mesh.extend(batch_size)\n",
    "\n",
    "# Get a batch of viewing angles. \n",
    "elev = torch.linspace(0, 360, batch_size)\n",
    "azim = torch.linspace(0, 360, batch_size)\n",
    "\n",
    "# All the cameras helper methods support mixed type inputs and broadcasting. So we can \n",
    "# view the camera from the same distance and specify dist=2.7 as a float,\n",
    "# and then specify elevation and azimuth angles for each viewpoint as tensors. \n",
    "R, T = look_at_view_transform(dist=400, elev=elev, azim=azim)\n",
    "cameras = OpenGLPerspectiveCameras(device=device, R=R, T=T)\n",
    "\n",
    "# Move the light back in front of the object\n",
    "lights.location = torch.tensor([[1.0, 1.0, -5.0]], device=device)\n",
    "\n",
    "# We can pass arbirary keyword arguments to the rasterizer/shader via the renderer\n",
    "# so the renderer does not need to be reinitialized if any of the settings change.\n",
    "images = silhouette_renderer(meshes, cameras=cameras, lights=lights)\n",
    "images = (images>0).float()\n",
    "image_grid(images.cpu().numpy(), rows=4, cols=5, rgb=False)"
   ]
  }
 ],
 "metadata": {
  "kernelspec": {
   "display_name": "Python 3.7.6 64-bit ('py37': conda)",
   "language": "python",
   "name": "python37664bitpy37conda5edf73b68f324e6dab7b61fd7abcfc36"
  },
  "language_info": {
   "codemirror_mode": {
    "name": "ipython",
    "version": 3
   },
   "file_extension": ".py",
   "mimetype": "text/x-python",
   "name": "python",
   "nbconvert_exporter": "python",
   "pygments_lexer": "ipython3",
   "version": "3.7.6"
  }
 },
 "nbformat": 4,
 "nbformat_minor": 4
}
